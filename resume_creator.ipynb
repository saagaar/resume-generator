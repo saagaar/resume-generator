{
 "cells": [
  {
   "cell_type": "code",
   "execution_count": null,
   "id": "277ae024",
   "metadata": {},
   "outputs": [],
   "source": [
    "import sys\n",
    "print(sys.executable)\n",
    "\n",
    "\n"
   ]
  },
  {
   "cell_type": "code",
   "execution_count": null,
   "id": "c7f8e008",
   "metadata": {},
   "outputs": [
    {
     "ename": "",
     "evalue": "",
     "output_type": "error",
     "traceback": [
      "\u001b[1;31mRunning cells with 'Python 3.9.6' requires the ipykernel package.\n",
      "\u001b[1;31mInstall 'ipykernel' into the Python environment. \n",
      "\u001b[1;31mCommand: '/usr/bin/python3 -m pip install ipykernel -U --user --force-reinstall'"
     ]
    }
   ],
   "source": [
    "import argparse\n",
    "from file_handler import extract_text\n",
    "from langchain_client import generate_suggestions_openrouter\n",
    "from pdf_generator import create_pdf, create_text_file\n",
    "# def main():\n",
    "breakpoint()\n",
    "    # parser = argparse.ArgumentParser(description=\"Resume Optimizer with LangChain\")\n",
    "    # parser.add_argument(\"--resume\", default=\"cv/my_cv.pdf\", help=\"Path to resume file (PDF, DOCX, TXT)\")\n",
    "    # parser.add_argument(\"--jd\", default=\"cv/jd.txt\", help=\"Path to job description\")\n",
    "    # parser.add_argument(\"--notes\", default=\"\", help=\"Optional notes to guide optimization\")\n",
    "    # args = parser.parse_args()\n",
    "try:\n",
    "    print(\"🔍 Reading resume and job description...\")\n",
    "    resume_text = extract_text(\"cv/my_cv.pdf\")\n",
    "    jd_text = extract_text(\"cv/jd.txt\")\n",
    "    # print(jd_text)\n",
    "\n",
    "    print(\"🤖 Generating AI suggestions...\")\n",
    "    # suggestions = generate_suggestions(resume_text, jd_text,\"Make it more result-focused and highlight AWS, leadership\")\n",
    "    # suggestions = generate_suggestions_deepseek(resume_text, jd_text,\"Make it more result-focused and highlight AWS, leadership\")\n",
    "    suggestions = generate_suggestions_openrouter(resume_text, jd_text,\"Make it more result-focused and highlight AWS, leadership\")\n",
    "\n",
    "    print(\"📄 Saving suggestions to PDF...\")\n",
    "    # print(suggestions)\n",
    "    pdf_path = create_pdf(suggestions)\n",
    "    # print(f\"✅ Done! Suggestions saved to: {pdf_path}\")\n",
    "\n",
    "    # if __name__ == \"__main__\":\n",
    "    #     main()\n",
    "    \n",
    "except Exception as e:\n",
    "    print(f\"An error occurred?: {e}\")\n",
    "    sys.exit(1) "
   ]
  },
  {
   "cell_type": "code",
   "execution_count": null,
   "id": "ba2abab2",
   "metadata": {},
   "outputs": [],
   "source": []
  }
 ],
 "metadata": {
  "kernelspec": {
   "display_name": "Python 3",
   "language": "python",
   "name": "python3"
  },
  "language_info": {
   "codemirror_mode": {
    "name": "ipython",
    "version": 3
   },
   "file_extension": ".py",
   "mimetype": "text/x-python",
   "name": "python",
   "nbconvert_exporter": "python",
   "pygments_lexer": "ipython3",
   "version": "3.9.6"
  }
 },
 "nbformat": 4,
 "nbformat_minor": 5
}
