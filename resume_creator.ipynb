{
 "cells": [
  {
   "cell_type": "code",
   "execution_count": 1,
   "id": "277ae024",
   "metadata": {},
   "outputs": [
    {
     "name": "stdout",
     "output_type": "stream",
     "text": [
      "/Volumes/Files & Storage/codes/python/resume-generator/resume-generator/cvenv/bin/python\n"
     ]
    }
   ],
   "source": [
    "import sys\n",
    "print(sys.executable)\n",
    "\n",
    "\n"
   ]
  },
  {
   "cell_type": "code",
   "execution_count": 2,
   "id": "c7f8e008",
   "metadata": {},
   "outputs": [
    {
     "name": "stdout",
     "output_type": "stream",
     "text": [
      "🔍 Reading resume and job description...\n",
      "🤖 Generating AI suggestions...\n",
      "📄 Saving suggestions to PDF...\n",
      "### Tailored Resume\n",
      "\n",
      "**Sagar Chapagain**\n",
      "**Senior Software Engineer**\n",
      "\n",
      "**Contact Information**\n",
      "\n",
      "* Email: [saagar chapagain@gmail.com](mailto:saagar chapagain@gmail.com)\n",
      "* Phone: +61-0416982187\n",
      "* LinkedIn: linkedin.com/in/sagar-chapagain-352451aa\n",
      "* Website: sagarchapagain.com\n",
      "\n",
      "### Summary\n",
      "Results-driven Senior Software Engineer with 8+ years of experience in designing, developing, and scaling web applications using TypeScript, Python, and PHP. Proven track record of leading technical discussions, mentoring engineers, and making architectural decisions that balance scalability, maintainability, and user experience.\n",
      "\n",
      "### Technical Skills\n",
      "\n",
      "* Programming Languages: TypeScript, Python, PHP\n",
      "* Frameworks & Libraries: Nest.js, Next.js, React.js, Laravel, Django\n",
      "* Databases: MySQL, PostgreSQL, MongoDB, Elasticsearch\n",
      "* Cloud & Tools: AWS (EC2, S3, CloudFront, Lambda), Docker, Git, CI/CD Pipelines, Terraform, Playwright\n",
      "\n",
      "### Work Experience\n",
      "\n",
      "#### Contract Full Stack Engineer\n",
      "Outback Yak, Melbourne\n",
      "Dec 2024 - Present\n",
      "\n",
      "* Designed and developed an application integrated with AI-powered video agents to help medical students practice clinical consultations and chatbots, improving student learning by more than 30%\n",
      "* Engineered and deployed a scalable LMS, integrating Clerk authentication, Stripe for payments, and a custom payload CMS for seamless content management\n",
      "* Optimized cloud infrastructure on AWS, cutting downtime by 40% and improving system reliability\n",
      "\n",
      "#### Lead Software Engineer\n",
      "Idata Solutions Pvt. Ltd., Nepal\n",
      "Dec 2018 - Aug 2024\n",
      "\n",
      "* Led architecture, development, and delivery of 10+ projects, aligning technical solutions with business needs while mentoring and expanding the team from 2 to 12 members\n",
      "* Implemented CI/CD pipelines and AWS Lambda, reducing deployment time by 1.5 days per sprint, cutting server costs, and decreasing deployment failures by 50%\n",
      "* Developed scalable cloud solutions using AWS (EC2, S3, Load Balancing) and delivered diverse applications, including real-time chat, e-commerce, LMS, and ride-sharing platforms\n",
      "\n",
      "#### Senior Software Engineer\n",
      "E-Multitech Solutions, Nepal\n",
      "Sep 2016 - Aug 2018\n",
      "\n",
      "* Delivered 12+ projects for clients across various regions, including auction platforms and real-time bidding solutions\n",
      "* Developed and deployed REST APIs for mobile applications, integrated third-party APIs, including payment gateways (PayPal, Stripe) and social media platforms\n",
      "* Conducted code reviews, mentored junior developers, and ensured code is maintained to its quality and consistency\n",
      "\n",
      "### Education\n",
      "\n",
      "* Bachelor's Degree in Electronics and Communication Engineering, Tribhuvan University, Nepal (2014)\n",
      "* Master's Degree in Economics (Econometrics major), Tribhuvan University, Nepal (2021)\n",
      "\n",
      "### Additional Suggestions\n",
      "\n",
      "* **Skills to strengthen alignment with the role:**\n",
      "\t+ Design systems experience\n",
      "\t+ Experience with API integrations\n",
      "\t+ Agile experience with Test-Driven Development processes\n",
      "* **Certifications or courses to pursue:**\n",
      "\t+ AWS Certified Solution Architect - Professional\n",
      "\t+ Cloud Architect certification\n",
      "* **Specific projects or experiences to develop:**\n",
      "\t+ Develop a machine learning algorithm using Python to predict the price of a used car (as a part of a Master's project)\n",
      "\t+ Implement and work on a project that integrates with design systems and API integrations\n",
      "\n",
      "---\n",
      "\n",
      "Note: The tailored resume is optimized for the Senior Software Engineer role at Kanopi, highlighting relevant experience, skills, and achievements. It incorporates job description keywords and is concise, no longer than one page.\n"
     ]
    }
   ],
   "source": [
    "import argparse\n",
    "from file_handler import extract_text\n",
    "from langchain_client import generate_suggestions_openrouter\n",
    "from pdf_generator import create_pdf, create_text_file\n",
    "# def main():\n",
    "    # parser = argparse.ArgumentParser(description=\"Resume Optimizer with LangChain\")\n",
    "    # parser.add_argument(\"--resume\", default=\"cv/my_cv.pdf\", help=\"Path to resume file (PDF, DOCX, TXT)\")\n",
    "    # parser.add_argument(\"--jd\", default=\"cv/jd.txt\", help=\"Path to job description\")\n",
    "    # parser.add_argument(\"--notes\", default=\"\", help=\"Optional notes to guide optimization\")\n",
    "    # args = parser.parse_args()\n",
    "try:\n",
    "    print(\"🔍 Reading resume and job description...\")\n",
    "    resume_text = extract_text(\"cv/my_cv.pdf\")\n",
    "    jd_text = extract_text(\"cv/jd.txt\")\n",
    "    # print(jd_text)\n",
    "\n",
    "    print(\"🤖 Generating AI suggestions...\")\n",
    "    # suggestions = generate_suggestions(resume_text, jd_text,\"Make it more result-focused and highlight AWS, leadership\")\n",
    "    # suggestions = generate_suggestions_deepseek(resume_text, jd_text,\"Make it more result-focused and highlight AWS, leadership\")\n",
    "    suggestions = generate_suggestions_openrouter(resume_text, jd_text,\"Make it more result-focused and highlight AWS, leadership\")\n",
    "\n",
    "    print(\"📄 Saving suggestions to PDF...\")\n",
    "    # print(suggestions)\n",
    "    pdf_path = create_pdf(suggestions)\n",
    "    # print(f\"✅ Done! Suggestions saved to: {pdf_path}\")\n",
    "\n",
    "    # if __name__ == \"__main__\":\n",
    "    #     main()\n",
    "    \n",
    "except Exception as e:\n",
    "    print(f\"An error occurred?: {e}\")\n",
    "    sys.exit(1) "
   ]
  }
 ],
 "metadata": {
  "kernelspec": {
   "display_name": "cv(env)",
   "language": "python",
   "name": "cvenv"
  },
  "language_info": {
   "codemirror_mode": {
    "name": "ipython",
    "version": 3
   },
   "file_extension": ".py",
   "mimetype": "text/x-python",
   "name": "python",
   "nbconvert_exporter": "python",
   "pygments_lexer": "ipython3",
   "version": "3.9.18"
  }
 },
 "nbformat": 4,
 "nbformat_minor": 5
}
